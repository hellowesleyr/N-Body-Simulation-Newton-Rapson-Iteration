{
 "cells": [
  {
   "cell_type": "code",
   "execution_count": null,
   "metadata": {},
   "outputs": [],
   "source": [
    "import matplotlib.pyplot as plt\n",
    "import numpy as np\n",
    "import pandas as pd\n",
    "import vector\n",
    "import math\n"
   ]
  },
  {
   "cell_type": "code",
   "execution_count": 3,
   "metadata": {},
   "outputs": [
    {
     "ename": "SyntaxError",
     "evalue": "incomplete input (2029200962.py, line 40)",
     "output_type": "error",
     "traceback": [
      "\u001b[0;36m  Cell \u001b[0;32mIn [3], line 40\u001b[0;36m\u001b[0m\n\u001b[0;31m    \u001b[0m\n\u001b[0m    ^\u001b[0m\n\u001b[0;31mSyntaxError\u001b[0m\u001b[0;31m:\u001b[0m incomplete input\n"
     ]
    }
   ],
   "source": [
    "class Simulation:\n",
    "    def __init__(self,length,initial_particle_state):\n",
    "        self.zMax = length/2 #(m)\n",
    "        self.zMin = -length/2 #(m)\n",
    "        self.yMax = length/2 #(m)\n",
    "        self.yMin = -length/2 #(m)\n",
    "        self.xMax = length/2 #(m)\n",
    "        self.xMin = -length/2 #(m)\n",
    "        self.time_passed = 0 #(s)\n",
    "        self.argon_mass = 6.63**-26 #(kg)\n",
    "        self.totalDelMomentum_x_positive = 0 #(kgm/s)\n",
    "        self.stateSnapshots = []\n",
    "        self.stateSnapshots.append(initial_particle_state)\n",
    "        self.particles = initial_particle_state\n",
    "\n",
    "    \n",
    "\n",
    "    def update_acceleration(self):\n",
    "        #Argon parameters\n",
    "        sigma = 0.3345**-9 #m\n",
    "        epsilon = 1.735**-21\n",
    "        argon_mass = 6.63**-26 #kg\n",
    "        for i in range(0,len(self.particles)):\n",
    "            #Instantiatet the force vector acting upon i from all other possible particles j_n\n",
    "            vec_force_i  = vector.obj(x=0,y=0,z=0)\n",
    "            for j in range(0,len(self.particles)):\n",
    "                if (i == j):\n",
    "                    continue\n",
    "                vec_position_i= self.particles[i].position\n",
    "                vec_position_j = self.particles[j].position\n",
    "                #Considering the position vector from particle j to i\n",
    "                vec_distance_ji = vec_position_j - vec_position_i\n",
    "                vec_direction_ji =  vec_distance_ji/vec_distance_ji.mag\n",
    "                mag_distance_ji = vec_distance_ji.mag\n",
    "                #Force eqn below from radial distance derivative of Lennard-Jones potential\n",
    "                mag_force = 24*epsilon*sigma**6*(mag_distance_ji**6-2*sigma**6)/(mag_distance_ji**13)\n",
    "                vec_force_ji = mag_force*vec_direction_ji\n",
    "                vec_force_i+= vec_force_ji\n",
    "            #Finally we have spatial acceleration vector\n",
    "            vec_acc_i = vec_force_i/argon_mass\n",
    "            self.particles[i].acceleration = vec_acc_i\n",
    "\n",
    "    def update_velocity(self,dt=0.00001):\n",
    "        for i in range(0,len(self.particles)):\n",
    "            self.particles[i].velocity = (dt/2)*self.particles[i].acceleration \n",
    "            \n",
    "    def update_position(self,dt=0.00001):\n",
    "        for i in range(0,len(self.particles)):\n",
    "            self.particles[i]\n",
    "            self.particles[i].position = (dt)*self.particles[i].velocity\n",
    "            #In +ve x direction:\n",
    "            if (self.particles[i].position.x > self.xMax): #if a particle has passed 'tried' to pass the boundary \n",
    "                #Place the particle at the boundary\n",
    "                self.particles[i].position.x = self.xMax\n",
    "                #Increment the total del_momentum in x for future momentum calculation\n",
    "                self.totalDelMomentum_x_positive += self.argon_mass*self.particles[i].velocity.mag\n",
    "                #Reverse its momentum in relevant direction to simulate an elastic collision\n",
    "                self.particles[i].velocity.x = -self.particles[i].velocity.x\n",
    "            #in -ve x direction:\n",
    "            elif(self.particles[i].position.x < self.xMin):\n",
    "                #Place the particle at the boundary\n",
    "                self.particles[i].position.x = self.xMax\n",
    "                #We will not consider del momentum for any other directions, since principle of pressure symmetry should\n",
    "                #allow us to calculate total pressure from total del momentum using one sign of one axis.\n",
    "                self.particles[i].velocity.x - self.particles[i].velocity.x\n",
    "\n",
    "            \n",
    "\n",
    "            \n",
    "    \n",
    "\n",
    "\n",
    "    def main(time=0,render = False):\n",
    "        \n",
    "\n",
    "\n"
   ]
  },
  {
   "cell_type": "code",
   "execution_count": null,
   "metadata": {},
   "outputs": [],
   "source": [
    "class Particle: \n",
    "    def __init__(self,position,velocity = vector.obj(x=0,y=0,z=0),acceleration = vector.obj(x=0,y=0,z=0),mass = 6.63**-26):\n",
    "        self.position = position\n",
    "        self.velocity = velocity\n",
    "        self.acceleration = acceleration\n"
   ]
  },
  {
   "cell_type": "code",
   "execution_count": null,
   "metadata": {},
   "outputs": [],
   "source": [
    "def main(N):\n",
    "    return 0"
   ]
  }
 ],
 "metadata": {
  "kernelspec": {
   "display_name": "Python 3.10.6 64-bit",
   "language": "python",
   "name": "python3"
  },
  "language_info": {
   "codemirror_mode": {
    "name": "ipython",
    "version": 3
   },
   "file_extension": ".py",
   "mimetype": "text/x-python",
   "name": "python",
   "nbconvert_exporter": "python",
   "pygments_lexer": "ipython3",
   "version": "3.10.6"
  },
  "orig_nbformat": 4,
  "vscode": {
   "interpreter": {
    "hash": "916dbcbb3f70747c44a77c7bcd40155683ae19c65e1c03b4aa3499c5328201f1"
   }
  }
 },
 "nbformat": 4,
 "nbformat_minor": 2
}
